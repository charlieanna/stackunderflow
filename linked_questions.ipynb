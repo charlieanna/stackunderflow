{
 "cells": [
  {
   "cell_type": "code",
   "execution_count": 1,
   "metadata": {},
   "outputs": [],
   "source": [
    "from google.cloud import bigquery\n",
    "import operator\n",
    "import networkx as nx\n",
    "from nltk.util import ngrams\n",
    "from nltk import FreqDist\n",
    "import matplotlib.pyplot as plt\n",
    "from gensim.models import Word2Vec\n",
    "import os\n",
    "from sklearn import metrics\n",
    "from scipy.spatial.distance import cdist\n",
    "import numpy as np\n",
    "import matplotlib.pyplot as plt\n",
    "from sklearn.cluster import KMeans\n",
    "import csv \n",
    "import sys #used for passing in the argument\n",
    "import pickle"
   ]
  },
  {
   "cell_type": "code",
   "execution_count": 2,
   "metadata": {},
   "outputs": [
    {
     "data": {
      "text/plain": [
       "'indigo-bazaar-255505'"
      ]
     },
     "execution_count": 2,
     "metadata": {},
     "output_type": "execute_result"
    }
   ],
   "source": [
    "from google.cloud import bigquery\n",
    "G = nx.Graph()\n",
    "client = bigquery.Client.from_service_account_json(\n",
    "        '../../../Downloads/MyFirstProject-e624aa75f64b.json')\n",
    "client.project"
   ]
  },
  {
   "cell_type": "code",
   "execution_count": null,
   "metadata": {},
   "outputs": [],
   "source": [
    "# Questions with the most number of inlinks in descending order. \n",
    "query = \"\"\"\n",
    "        SELECT distinct related_post_id, count(related_post_id) as a FROM `bigquery-public-data.stackoverflow.post_links` group by related_post_id ORDER BY a DESC\n",
    "\"\"\"\n",
    "job_config = bigquery.QueryJobConfig()\n",
    "query_job = client.query(query, job_config=job_config)\n",
    "results = query_job.result()\n",
    "\n",
    "for row in results:\n",
    "    print(row)"
   ]
  },
  {
   "cell_type": "code",
   "execution_count": 12,
   "metadata": {},
   "outputs": [],
   "source": [
    "# all the questions with tag Go and rest of the tags. \n",
    "# SELECT tag_name, count FROM `bigquery-public-data.stackoverflow.tags`  where tag_name = 'go' \n",
    "# SELECT  * FROM `bigquery-public-data.stackoverflow.posts_questions` where tags = 'go' order by score desc  limit 10 "
   ]
  },
  {
   "cell_type": "code",
   "execution_count": null,
   "metadata": {},
   "outputs": [],
   "source": [
    "# what tags occur together with go lang? finding tags from word2vec or fasttext is not good since go isnt a good tag. "
   ]
  }
 ],
 "metadata": {
  "kernelspec": {
   "display_name": "Python 3",
   "language": "python",
   "name": "python3"
  },
  "language_info": {
   "codemirror_mode": {
    "name": "ipython",
    "version": 3
   },
   "file_extension": ".py",
   "mimetype": "text/x-python",
   "name": "python",
   "nbconvert_exporter": "python",
   "pygments_lexer": "ipython3",
   "version": "3.7.3"
  }
 },
 "nbformat": 4,
 "nbformat_minor": 2
}
